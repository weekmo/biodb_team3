{
 "cells": [
  {
   "cell_type": "markdown",
   "metadata": {
    "slideshow": {
     "slide_type": "slide"
    }
   },
   "source": [
    "# Imports"
   ]
  },
  {
   "cell_type": "code",
   "execution_count": 1,
   "metadata": {
    "collapsed": true
   },
   "outputs": [],
   "source": [
    "from biodb_team_3.db_manager import Manager"
   ]
  },
  {
   "cell_type": "markdown",
   "metadata": {
    "slideshow": {
     "slide_type": "slide"
    }
   },
   "source": [
    "# Create and populate DB"
   ]
  },
  {
   "cell_type": "code",
   "execution_count": 3,
   "metadata": {
    "collapsed": false
   },
   "outputs": [
    {
     "name": "stderr",
     "output_type": "stream",
     "text": [
      "/usr/lib/python3.5/re.py:203: FutureWarning: split() requires a non-empty pattern match.\n",
      "  return _compile(pattern, flags).split(string, maxsplit)\n"
     ]
    }
   ],
   "source": [
    "#note that the program is not expect an existing \"uniprot_disease.db\" file in the same folder;\n",
    "#populating the database step should be performed once\n",
    "\n",
    "m = Manager()\n",
    "m.populate_db()"
   ]
  },
  {
   "cell_type": "markdown",
   "metadata": {
    "slideshow": {
     "slide_type": "slide"
    }
   },
   "source": [
    "# Query DB"
   ]
  },
  {
   "cell_type": "code",
   "execution_count": 4,
   "metadata": {
    "collapsed": false
   },
   "outputs": [
    {
     "name": "stdout",
     "output_type": "stream",
     "text": [
      "['149730', '176943', '123150', '123500', '123790', '101200', '101400', '101600', '614592', '609579', '207410']\n",
      "Pickled result list dumped at: /home/colin/git/biodb_team_3\n"
     ]
    }
   ],
   "source": [
    "#query for a single protein accesion and pickle:\n",
    "print(m.query_for_disease_single(\"P21802\"))\n",
    "m.query_for_disease_single(\"P21802\", True)"
   ]
  },
  {
   "cell_type": "code",
   "execution_count": 5,
   "metadata": {
    "collapsed": false
   },
   "outputs": [
    {
     "data": {
      "text/plain": [
       "['101200',\n",
       " '101400',\n",
       " '101600',\n",
       " '123150',\n",
       " '123500',\n",
       " '123790',\n",
       " '149730',\n",
       " '176943',\n",
       " '207410',\n",
       " '609579',\n",
       " '614592',\n",
       " '101400',\n",
       " '123100',\n",
       " '180750',\n",
       " '601622']"
      ]
     },
     "execution_count": 5,
     "metadata": {},
     "output_type": "execute_result"
    }
   ],
   "source": [
    "#query with multiple protein accesions:\n",
    "m.get_omim_id_with_uniprot_id(['P21802', 'Q15672'])"
   ]
  },
  {
   "cell_type": "code",
   "execution_count": 6,
   "metadata": {
    "collapsed": false
   },
   "outputs": [
    {
     "name": "stdout",
     "output_type": "stream",
     "text": [
      "['P21802']\n",
      "Pickled result list dumped at: /home/colin/git/biodb_team_3\n"
     ]
    }
   ],
   "source": [
    "#query with a single OMIM ID and pickle:\n",
    "print(m.query_for_protein_single(\"176943\"))\n",
    "m.query_for_protein_single(\"176943\", True)"
   ]
  },
  {
   "cell_type": "code",
   "execution_count": 7,
   "metadata": {
    "collapsed": false
   },
   "outputs": [
    {
     "data": {
      "text/plain": [
       "['P05067', 'Q92673']"
      ]
     },
     "execution_count": 7,
     "metadata": {},
     "output_type": "execute_result"
    }
   ],
   "source": [
    "#query with multiple OMIM ID's:\n",
    "m.get_uniprot_id_with_omim_id([\"104300\"])"
   ]
  }
 ],
 "metadata": {
  "celltoolbar": "Slideshow",
  "kernelspec": {
   "display_name": "Python 3",
   "language": "python",
   "name": "python3"
  },
  "language_info": {
   "codemirror_mode": {
    "name": "ipython",
    "version": 3
   },
   "file_extension": ".py",
   "mimetype": "text/x-python",
   "name": "python",
   "nbconvert_exporter": "python",
   "pygments_lexer": "ipython3",
   "version": "3.5.2"
  }
 },
 "nbformat": 4,
 "nbformat_minor": 2
}
