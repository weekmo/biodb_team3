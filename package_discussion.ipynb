{
 "cells": [
  {
   "cell_type": "markdown",
   "metadata": {},
   "source": [
    "Create a notebook which proves you algorithm works, answer also  in ipynb ...\n",
    "\n",
    "1. What is the new insight of your result?\n",
    "2. What kind of application you have in mind?\n",
    "3. What are the restrictions of your software?\n",
    "4. If you start you master thesis, how you would try to improve your algorithm/software?\n",
    "5. Tools like this already exists?"
   ]
  },
  {
   "cell_type": "markdown",
   "metadata": {},
   "source": [
    "### 1. What is the new insight of your result?"
   ]
  },
  {
   "cell_type": "markdown",
   "metadata": {},
   "source": [
    "Our package allows for exploring the protein-disease associations and the insight the user gains is not only to which omim ID a given protein relates to but how relevant the protein seems to be in the protein-disease search space;\n",
    "If a protein relates to more than one disease, that implicates it to have a more central role in the disease development.\n",
    "\n",
    "examples:"
   ]
  },
  {
   "cell_type": "code",
   "execution_count": 1,
   "metadata": {
    "collapsed": false
   },
   "outputs": [
    {
     "name": "stderr",
     "output_type": "stream",
     "text": [
      "C:\\Users\\admin\\Anaconda3\\lib\\re.py:203: FutureWarning: split() requires a non-empty pattern match.\n",
      "  return _compile(pattern, flags).split(string, maxsplit)\n"
     ]
    }
   ],
   "source": [
    "#importing and populating the db\n",
    "from biodb_team_3 import db_manager\n",
    "m = db_manager.Manager()\n",
    "m.populate_db()"
   ]
  },
  {
   "cell_type": "markdown",
   "metadata": {},
   "source": [
    "[Fibroblast growth factor receptor 2](https://www.uniprot.org/uniprot/P21802) is a very important kinase which is related to many human diseases; its uniprot accesion id is P21802"
   ]
  },
  {
   "cell_type": "code",
   "execution_count": 2,
   "metadata": {
    "collapsed": false
   },
   "outputs": [
    {
     "name": "stdout",
     "output_type": "stream",
     "text": [
      "['101200', '101400', '101600', '123150', '123500', '123790', '149730', '207410', '609579', '614592']\n",
      "10\n"
     ]
    }
   ],
   "source": [
    "queryFGFR = m.query_for_disease_single(\"P21802\")\n",
    "print(queryFGFR)\n",
    "print(len(queryFGFR))"
   ]
  },
  {
   "cell_type": "markdown",
   "metadata": {},
   "source": [
    "We can see that 10 different diseases are related to this kinase"
   ]
  },
  {
   "cell_type": "markdown",
   "metadata": {},
   "source": [
    "The user could also seek out all of the proteins related to the disease in question:"
   ]
  },
  {
   "cell_type": "markdown",
   "metadata": {},
   "source": [
    "[Alzheimer Disease](https://www.omim.org/entry/104300) is one of the most prominent and debilitating forms of dementia, affecting millions of people world wide; its OMIM ID id is 104300"
   ]
  },
  {
   "cell_type": "code",
   "execution_count": 5,
   "metadata": {
    "collapsed": false
   },
   "outputs": [
    {
     "name": "stdout",
     "output_type": "stream",
     "text": [
      "['P05067', 'Q92673']\n",
      "2\n"
     ]
    }
   ],
   "source": [
    "queryAlz = m.query_for_protein_single(\"104300\")\n",
    "print(queryAlz)\n",
    "print(len(queryAlz))"
   ]
  },
  {
   "cell_type": "markdown",
   "metadata": {},
   "source": [
    "Through the query, we obtain 2 protein accesion numbers which seem to be related to Alzheimers; lets check out what those are"
   ]
  },
  {
   "cell_type": "code",
   "execution_count": 7,
   "metadata": {
    "collapsed": false
   },
   "outputs": [
    {
     "name": "stdout",
     "output_type": "stream",
     "text": [
      "A4_HUMAN\n",
      "SORL_HUMAN\n"
     ]
    }
   ],
   "source": [
    "for accession in queryAlz:\n",
    "    print(m.find_protein(accession))"
   ]
  },
  {
   "cell_type": "markdown",
   "metadata": {},
   "source": [
    "We can see that the Uniprot names are not as descriptive as we would hope, which is one of the limitations, but they do provide additional insight (this will be discussed bellow).\n",
    "\n",
    "A4_HUMAN is Amyloid-beta A4 protein\n",
    "\n",
    "SORL_HUMAN is Sortilin-related receptor"
   ]
  },
  {
   "cell_type": "markdown",
   "metadata": {},
   "source": [
    "### 2. What kind of application you have in mind?"
   ]
  },
  {
   "cell_type": "markdown",
   "metadata": {},
   "source": [
    "What a user could do besides mapping from proteins to diseases is to, for example, start with an OMIM ID for a particular disease in question and explore the diseases which seem to be related to the disease in question due to their overlap in associated proteins.\n",
    "\n",
    "Again we use [Alzheimer Disease](https://www.omim.org/entry/104300) as example."
   ]
  },
  {
   "cell_type": "code",
   "execution_count": 4,
   "metadata": {
    "collapsed": false
   },
   "outputs": [
    {
     "name": "stdout",
     "output_type": "stream",
     "text": [
      "{'605714'}\n"
     ]
    }
   ],
   "source": [
    "associatedDisease = m.get_associated_disease_with_omim_id(\"104300\")\n",
    "print(associatedDisease)"
   ]
  },
  {
   "cell_type": "markdown",
   "metadata": {},
   "source": [
    " The result, [Cerebral Amyloid Angiopathy](https://www.omim.org/entry/605714)(OMIM id: 605714), can be caused by the same amyloid protein that is associated with Alzheimer's dementia according to [Wikipedia](https://en.wikipedia.org/wiki/Cerebral_amyloid_angiopathy)."
   ]
  },
  {
   "cell_type": "markdown",
   "metadata": {},
   "source": [
    "Another useful function is to find common associated proteins given a list of diseases. This might be helpful for finding the essential target for treating a patient with multiple diseases."
   ]
  },
  {
   "cell_type": "markdown",
   "metadata": {},
   "source": [
    "Here we use [Type 1 Diabetes](https://www.omim.org/entry/222100)(OMIM id: 222100) and several other diseases for query.  \n",
    "  \n",
    "  \n",
    "First we query type 1 diabetes with [Celiac Disease](https://www.omim.org/entry/612011)(OMIM id: 612011)"
   ]
  },
  {
   "cell_type": "code",
   "execution_count": 37,
   "metadata": {
    "collapsed": false
   },
   "outputs": [
    {
     "name": "stdout",
     "output_type": "stream",
     "text": [
      "{'Q9UQQ2'}\n"
     ]
    }
   ],
   "source": [
    "commonProteins = m.get_shared_associated_proteins_by_omim_ids([\"222100\", \"612011\"])\n",
    "print(commonProteins)"
   ]
  },
  {
   "cell_type": "markdown",
   "metadata": {},
   "source": [
    "the result, [SH2B Adapter Protein 3](http://www.uniprot.org/uniprot/Q9UQQ2)(UniProt id: Q9UQQ2) is involved in autoimmune disorders including type1 diabetes and celiac disease. "
   ]
  },
  {
   "cell_type": "markdown",
   "metadata": {},
   "source": [
    "Then we query with [Systemic Lupus Erythematosus](https://www.omim.org/entry/152700)(OMIM id: 152700), [Rheumatoid Arthritis](https://www.omim.org/entry/180300)(OMIM id: 180300) and [Vitiligo](https://www.omim.org/entry/193200)(OMIM id: 193200)"
   ]
  },
  {
   "cell_type": "code",
   "execution_count": 38,
   "metadata": {
    "collapsed": false
   },
   "outputs": [
    {
     "name": "stdout",
     "output_type": "stream",
     "text": [
      "{'Q9Y2R2'}\n",
      "{'Q9Y2R2'}\n",
      "{'Q9Y2R2'}\n",
      "{'Q9Y2R2'}\n"
     ]
    }
   ],
   "source": [
    "commonProteins = m.get_shared_associated_proteins_by_omim_ids([\"222100\", \"152700\"])\n",
    "print(commonProteins)\n",
    "commonProteins = m.get_shared_associated_proteins_by_omim_ids([\"222100\", \"180300\"])\n",
    "print(commonProteins)\n",
    "commonProteins = m.get_shared_associated_proteins_by_omim_ids([\"222100\", \"193200\"])\n",
    "print(commonProteins)\n",
    "commonProteins = m.get_shared_associated_proteins_by_omim_ids([\"222100\", \"152700\", \"180300\", \"193200\"])\n",
    "print(commonProteins)"
   ]
  },
  {
   "cell_type": "markdown",
   "metadata": {},
   "source": [
    "Any combination of the diseases above along with diabetes leads to the same result: [Tyrosine-protein Phosphatase Non-Receptor Type 22, or PTPN22](http://www.uniprot.org/uniprot/Q9Y2R2)(UniProt id: Q9Y2R2).   \n",
    "According to [WikiPedia](https://en.wikipedia.org/wiki/PTPN22), the common 1858T [(rs2476601)](https://www.ncbi.nlm.nih.gov/projects/SNP/snp_ref.cgi?rs=2476601) Arg620Trp nonsynonymous single nucleotide polymorphism located in the PTPN22 gene has been associated with autoimmune disorders, including an increased risk of Type 1 Diabetes, rheumatoid arthritis, Systemic Lupus Erythematosus and Vitiligo.  \n",
    "From these examples we can see that this query function might be of great help in diagnosing the target protein for multiple coexisting diseases."
   ]
  },
  {
   "cell_type": "markdown",
   "metadata": {},
   "source": [
    "Needless to say that in communication with other packages developed by other teams, our package gains much more utility"
   ]
  },
  {
   "cell_type": "markdown",
   "metadata": {},
   "source": [
    "### 3. What are the restrictions of your software?"
   ]
  },
  {
   "cell_type": "markdown",
   "metadata": {},
   "source": [
    "The main restriction of our software is that it relies to another package to provide the user with the names of the OMIM diseases related to a particular protein, and in a sense, vice versa;\n",
    "It is only protein accesion ID's that are returned, not the full names; note that is a 'Manager().find_or_create_protein()' method which takes in a protein accesion and returns the full entry for the protein, demonstrated above.\n",
    "\n",
    "This is due to the fact that the package was developed in such a way that it resides in a three-package ecosystem where all packages have something to contribute to solving the final goal.\n",
    "\n",
    "Due to that, our queries are constructed in such a way that they return the most unique pieces of information (ID's) and not the full names themselves.\n",
    "\n",
    "The best and most direct data we could find for the protein-disease associations from Uniprot is delivered in such a way that we only have access to Uniprot names of the proteins, which, as demonstrated above, lack descriptiveness"
   ]
  },
  {
   "cell_type": "markdown",
   "metadata": {},
   "source": [
    "### 4. If you start you master thesis, how you would try to improve your algorithm/software?"
   ]
  },
  {
   "cell_type": "markdown",
   "metadata": {},
   "source": [
    "- We would parse the whole Uniprot xml raw data file and extract much more information from it;\n",
    "- We would eliminate the reliance to external packages and develop our own either API handles or local database tables which contain all of the information required for solving all of the scientific questions in mind\n",
    "- We would implement additional algorithms for searching the association search space"
   ]
  },
  {
   "cell_type": "markdown",
   "metadata": {},
   "source": [
    "### 5. Tools like this already exists?"
   ]
  },
  {
   "cell_type": "markdown",
   "metadata": {},
   "source": [
    "There have been some attempt to solve a similar question as we can see in the [publication here](https://www.ncbi.nlm.nih.gov/pmc/articles/PMC2367626/), however, their tool is offline. Most of the tools and databases currently available (i.e. DisGeNET) focus on mapping gene to disease associations, not protein to disease."
   ]
  },
  {
   "cell_type": "code",
   "execution_count": null,
   "metadata": {
    "collapsed": true
   },
   "outputs": [],
   "source": []
  }
 ],
 "metadata": {
  "anaconda-cloud": {},
  "kernelspec": {
   "display_name": "Python [default]",
   "language": "python",
   "name": "python3"
  },
  "language_info": {
   "codemirror_mode": {
    "name": "ipython",
    "version": 3
   },
   "file_extension": ".py",
   "mimetype": "text/x-python",
   "name": "python",
   "nbconvert_exporter": "python",
   "pygments_lexer": "ipython3",
   "version": "3.5.2"
  }
 },
 "nbformat": 4,
 "nbformat_minor": 2
}
