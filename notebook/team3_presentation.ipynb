{
 "cells": [
  {
   "cell_type": "markdown",
   "metadata": {
    "nbpresent": {
     "id": "d856a116-b74a-428a-97c8-9d9f19542bb2"
    },
    "slideshow": {
     "slide_type": "slide"
    }
   },
   "source": [
    "# Biomedical Databases Design, Implementation and Optimisation\n",
    "\n",
    "\n",
    "## WS- 2017/2018\n",
    "\n",
    "\n",
    "## Team 3 \n"
   ]
  },
  {
   "cell_type": "markdown",
   "metadata": {
    "nbpresent": {
     "id": "deaac886-8686-4234-af0e-215798e68cf9"
    },
    "slideshow": {
     "slide_type": "slide"
    }
   },
   "source": [
    "# Starting Point"
   ]
  },
  {
   "cell_type": "markdown",
   "metadata": {},
   "source": [
    "![question_mark](question_mark.jpg)"
   ]
  },
  {
   "cell_type": "markdown",
   "metadata": {
    "slideshow": {
     "slide_type": "slide"
    }
   },
   "source": [
    "![disease_network](disease_network.jpg)"
   ]
  },
  {
   "cell_type": "markdown",
   "metadata": {
    "nbpresent": {
     "id": "963ada54-5cfa-4646-a818-af8f13dd5c06"
    },
    "slideshow": {
     "slide_type": "slide"
    }
   },
   "source": [
    "# Client Product"
   ]
  },
  {
   "cell_type": "markdown",
   "metadata": {},
   "source": [
    "![Services_Dev](Services-Dev.png)"
   ]
  },
  {
   "cell_type": "markdown",
   "metadata": {
    "nbpresent": {
     "id": "a2068f1c-0721-4616-9b0c-f83b22280a86"
    },
    "slideshow": {
     "slide_type": "slide"
    }
   },
   "source": [
    "# Product Development Steps"
   ]
  },
  {
   "cell_type": "markdown",
   "metadata": {
    "nbpresent": {
     "id": "1c91ba99-f997-4cee-b47e-dcdf2bb61d02"
    },
    "slideshow": {
     "slide_type": "fragment"
    }
   },
   "source": [
    "* Choose the biomedical database and obtain raw data "
   ]
  },
  {
   "cell_type": "markdown",
   "metadata": {
    "nbpresent": {
     "id": "6e0a1588-e1f5-4709-b71b-a9520022df01"
    },
    "slideshow": {
     "slide_type": "fragment"
    }
   },
   "source": [
    "* Design and implement a data model in python"
   ]
  },
  {
   "cell_type": "markdown",
   "metadata": {
    "nbpresent": {
     "id": "2c4be5aa-1988-43ca-a8fb-8bd9eca0d05c"
    },
    "slideshow": {
     "slide_type": "fragment"
    }
   },
   "source": [
    "* Provide a python package that handles querying the database"
   ]
  },
  {
   "cell_type": "markdown",
   "metadata": {
    "nbpresent": {
     "id": "60646fa5-016f-4a0b-b293-99f6eed03ad3"
    },
    "slideshow": {
     "slide_type": "fragment"
    }
   },
   "source": [
    "* Query the database"
   ]
  },
  {
   "cell_type": "markdown",
   "metadata": {
    "nbpresent": {
     "id": "f9fe7ca7-c954-4149-9023-d999cd761a55"
    },
    "slideshow": {
     "slide_type": "fragment"
    }
   },
   "source": [
    "* Document the project "
   ]
  },
  {
   "cell_type": "markdown",
   "metadata": {
    "nbpresent": {
     "id": "32cf68f3-6355-4cc3-8d55-e0f1c46cea05"
    },
    "slideshow": {
     "slide_type": "fragment"
    }
   },
   "source": [
    "* Test the product"
   ]
  },
  {
   "cell_type": "markdown",
   "metadata": {
    "nbpresent": {
     "id": "980cfe66-5b6c-4ab7-a238-38a21574ab86"
    },
    "slideshow": {
     "slide_type": "slide"
    }
   },
   "source": [
    "# Applications of Disease-Protein Database"
   ]
  },
  {
   "cell_type": "markdown",
   "metadata": {
    "nbpresent": {
     "id": "b921301a-4279-49c5-800b-2fa944e8914f"
    },
    "slideshow": {
     "slide_type": "slide"
    }
   },
   "source": [
    "## Find Associated Diseases with Given Disease  \n",
    "Start with an OMIM ID for a particular disease in question and explore the diseases which seem to be related to the disease in question due to their overlap in associated proteins.  "
   ]
  },
  {
   "cell_type": "markdown",
   "metadata": {
    "slideshow": {
     "slide_type": "-"
    }
   },
   "source": [
    "![application_1](application_1.jpg)"
   ]
  },
  {
   "cell_type": "code",
   "execution_count": 1,
   "metadata": {
    "nbpresent": {
     "id": "72b045cd-a5b5-4742-a10a-16da342ce8eb"
    },
    "slideshow": {
     "slide_type": "skip"
    }
   },
   "outputs": [
    {
     "name": "stderr",
     "output_type": "stream",
     "text": [
      "C:\\Users\\admin\\Anaconda3\\lib\\re.py:203: FutureWarning: split() requires a non-empty pattern match.\n",
      "  return _compile(pattern, flags).split(string, maxsplit)\n"
     ]
    }
   ],
   "source": [
    "#importing and populating the db\n",
    "from biodb_team_3 import db_manager\n",
    "m = db_manager.Manager()\n",
    "m.populate_db()"
   ]
  },
  {
   "cell_type": "markdown",
   "metadata": {
    "nbpresent": {
     "id": "4c953216-fca5-4635-99a0-5e85f1652290"
    },
    "slideshow": {
     "slide_type": "slide"
    }
   },
   "source": [
    "## Example\n",
    "[Alzheimer Disease](https://www.omim.org/entry/104300) is one of the most prominent and debilitating forms of dementia, affecting millions of people world wide; its OMIM id is 104300.  \n",
    "Query associated disease with this OMIM id:"
   ]
  },
  {
   "cell_type": "code",
   "execution_count": 11,
   "metadata": {
    "nbpresent": {
     "id": "afd91970-09b9-44ca-933c-505432ccf506"
    },
    "slideshow": {
     "slide_type": "fragment"
    }
   },
   "outputs": [
    {
     "name": "stdout",
     "output_type": "stream",
     "text": [
      "{'605714'}\n"
     ]
    }
   ],
   "source": [
    "associatedDisease = m.get_associated_disease_with_omim_id(\"104300\")\n",
    "print(associatedDisease)"
   ]
  },
  {
   "cell_type": "markdown",
   "metadata": {
    "nbpresent": {
     "id": "348e005a-ffe8-435a-851e-cde00096a686"
    },
    "slideshow": {
     "slide_type": "fragment"
    }
   },
   "source": [
    " The result, [Cerebral Amyloid Angiopathy](https://www.omim.org/entry/605714)(OMIM id: 605714), can be caused by the same amyloid protein that is associated with Alzheimer's dementia according to [Wikipedia](https://en.wikipedia.org/wiki/Cerebral_amyloid_angiopathy)."
   ]
  },
  {
   "cell_type": "markdown",
   "metadata": {
    "nbpresent": {
     "id": "0c036cd5-3dff-430c-ab14-3679f3236fb1"
    },
    "slideshow": {
     "slide_type": "slide"
    }
   },
   "source": [
    "## Find Common Associated Proteins with Multiple Diseases\n",
    "Another useful function is to find common associated proteins given a list of diseases. This might be helpful for finding the essential target for treating a patient with multiple diseases.  "
   ]
  },
  {
   "cell_type": "markdown",
   "metadata": {
    "slideshow": {
     "slide_type": "-"
    }
   },
   "source": [
    "![application_2](application_2.jpg)"
   ]
  },
  {
   "cell_type": "markdown",
   "metadata": {
    "nbpresent": {
     "id": "05cb7886-24e7-4c12-8d9c-0d1c2c8adcd4"
    },
    "slideshow": {
     "slide_type": "subslide"
    }
   },
   "source": [
    "### Application in Personalized Medicine"
   ]
  },
  {
   "cell_type": "markdown",
   "metadata": {
    "nbpresent": {
     "id": "77a1a588-1627-4123-aca5-19f9f2ac12f3"
    },
    "slideshow": {
     "slide_type": "fragment"
    }
   },
   "source": [
    "* Treatment based on all the concurrent diseases of a patient"
   ]
  },
  {
   "cell_type": "markdown",
   "metadata": {
    "nbpresent": {
     "id": "24cdfbf7-0b52-4841-a196-e41fbedbf4ba"
    },
    "slideshow": {
     "slide_type": "fragment"
    }
   },
   "source": [
    "* Find possible causes(proteins) for multiple concurrent diseases"
   ]
  },
  {
   "cell_type": "markdown",
   "metadata": {
    "nbpresent": {
     "id": "588b186d-0ac4-44be-8d89-3293c27cf37e"
    },
    "slideshow": {
     "slide_type": "fragment"
    }
   },
   "source": [
    "* Verify the causes(check patient's protein expression profile, etc.)"
   ]
  },
  {
   "cell_type": "markdown",
   "metadata": {
    "nbpresent": {
     "id": "0b66a2ad-f19e-4641-87c9-c55febc50263"
    },
    "slideshow": {
     "slide_type": "fragment"
    }
   },
   "source": [
    "* Reduce the amount of drug: Focus on the target protein and remove unnecessary non-targeting medicine"
   ]
  },
  {
   "cell_type": "markdown",
   "metadata": {
    "nbpresent": {
     "id": "e34ebc1c-7040-4c6e-bf72-ffa6f443990e"
    },
    "slideshow": {
     "slide_type": "slide"
    }
   },
   "source": [
    "### Example\n",
    "\n",
    "Here we use [Type 1 Diabetes](https://www.omim.org/entry/222100)(OMIM id: 222100) and several other diseases for query.  \n",
    "  \n",
    "  \n",
    "First we query type 1 diabetes with [Celiac Disease](https://www.omim.org/entry/612011)(OMIM id: 612011)"
   ]
  },
  {
   "cell_type": "code",
   "execution_count": 3,
   "metadata": {
    "nbpresent": {
     "id": "6ac7c517-3678-49eb-9b27-35fbb35273a2"
    },
    "slideshow": {
     "slide_type": "fragment"
    }
   },
   "outputs": [
    {
     "name": "stdout",
     "output_type": "stream",
     "text": [
      "{'Q9UQQ2'}\n"
     ]
    }
   ],
   "source": [
    "commonProteins = m.get_shared_associated_proteins_by_omim_ids([\"222100\", \"612011\"])\n",
    "print(commonProteins)"
   ]
  },
  {
   "cell_type": "markdown",
   "metadata": {
    "nbpresent": {
     "id": "dd814f6c-6a6b-4689-99a3-9dd84881902f"
    },
    "slideshow": {
     "slide_type": "fragment"
    }
   },
   "source": [
    "The result, [SH2B Adapter Protein 3](http://www.uniprot.org/uniprot/Q9UQQ2)(UniProt id: Q9UQQ2) is involved in autoimmune disorders including type1 diabetes and celiac disease. "
   ]
  },
  {
   "cell_type": "markdown",
   "metadata": {
    "nbpresent": {
     "id": "0de6326c-1872-4f67-8365-6b1ad929fd51"
    },
    "slideshow": {
     "slide_type": "subslide"
    }
   },
   "source": [
    "Then we query with [Systemic Lupus Erythematosus](https://www.omim.org/entry/152700)(OMIM id: 152700), [Rheumatoid Arthritis](https://www.omim.org/entry/180300)(OMIM id: 180300) and [Vitiligo](https://www.omim.org/entry/193200)(OMIM id: 193200)"
   ]
  },
  {
   "cell_type": "code",
   "execution_count": 4,
   "metadata": {
    "nbpresent": {
     "id": "8076c0b0-a936-409a-a91f-eb2f0e64db7b"
    },
    "slideshow": {
     "slide_type": "fragment"
    }
   },
   "outputs": [
    {
     "name": "stdout",
     "output_type": "stream",
     "text": [
      "{'Q9Y2R2'}\n",
      "{'Q9Y2R2'}\n",
      "{'Q9Y2R2'}\n",
      "{'Q9Y2R2'}\n"
     ]
    }
   ],
   "source": [
    "commonProteins = m.get_shared_associated_proteins_by_omim_ids([\"222100\", \"152700\"])\n",
    "print(commonProteins)\n",
    "commonProteins = m.get_shared_associated_proteins_by_omim_ids([\"222100\", \"180300\"])\n",
    "print(commonProteins)\n",
    "commonProteins = m.get_shared_associated_proteins_by_omim_ids([\"222100\", \"193200\"])\n",
    "print(commonProteins)\n",
    "commonProteins = m.get_shared_associated_proteins_by_omim_ids([\"222100\", \"152700\", \"180300\", \"193200\"])\n",
    "print(commonProteins)"
   ]
  },
  {
   "cell_type": "markdown",
   "metadata": {
    "nbpresent": {
     "id": "931204f8-8a8e-476f-9478-29592450f94e"
    },
    "slideshow": {
     "slide_type": "subslide"
    }
   },
   "source": [
    "Any combination of the diseases above along with diabetes leads to the same result: [Tyrosine-protein Phosphatase Non-Receptor Type 22, or PTPN22](http://www.uniprot.org/uniprot/Q9Y2R2)(UniProt id: Q9Y2R2).   \n",
    "  \n",
    "  \n",
    "According to [WikiPedia](https://en.wikipedia.org/wiki/PTPN22), the common 1858T [(rs2476601)](https://www.ncbi.nlm.nih.gov/projects/SNP/snp_ref.cgi?rs=2476601) Arg620Trp nonsynonymous single nucleotide polymorphism located in the PTPN22 gene has been associated with autoimmune disorders, including an increased risk of Type 1 Diabetes, rheumatoid arthritis, Systemic Lupus Erythematosus and Vitiligo.    \n",
    "  \n",
    "From these examples we can see that this query function might be of great help in diagnosing the target protein for multiple coexisting diseases."
   ]
  }
 ],
 "metadata": {
  "anaconda-cloud": {},
  "celltoolbar": "Slideshow",
  "kernelspec": {
   "display_name": "Python [default]",
   "language": "python",
   "name": "python3"
  },
  "language_info": {
   "codemirror_mode": {
    "name": "ipython",
    "version": 3
   },
   "file_extension": ".py",
   "mimetype": "text/x-python",
   "name": "python",
   "nbconvert_exporter": "python",
   "pygments_lexer": "ipython3",
   "version": "3.5.2"
  },
  "nbpresent": {
   "slides": {
    "046ba2a5-465c-44d8-9a90-191d0a53954c": {
     "id": "046ba2a5-465c-44d8-9a90-191d0a53954c",
     "prev": "a48c7374-f5fb-4724-b4f1-2300b096d181",
     "regions": {
      "d165dff1-20e9-45a9-b9e7-0320664a32b3": {
       "attrs": {
        "height": 0.8,
        "width": 0.8,
        "x": 0.1,
        "y": 0.1
       },
       "content": {
        "cell": "4e35901a-2673-4a27-aa38-cc802807fc6f",
        "part": "whole"
       },
       "id": "d165dff1-20e9-45a9-b9e7-0320664a32b3"
      }
     }
    },
    "14d0eb39-ff8a-4dfb-8676-ff4674838877": {
     "id": "14d0eb39-ff8a-4dfb-8676-ff4674838877",
     "prev": "b0ede8c2-f7ca-4c75-ad13-d3c7c624cb26",
     "regions": {
      "a6d771e7-5bbc-4357-b272-e8028ecc89ef": {
       "attrs": {
        "height": 0.8,
        "width": 0.8,
        "x": 0.1,
        "y": 0.1
       },
       "content": {
        "cell": "a8ef6c31-3d17-45d8-b8b2-e0e559e5002c",
        "part": "whole"
       },
       "id": "a6d771e7-5bbc-4357-b272-e8028ecc89ef"
      }
     }
    },
    "1538ed33-bcf3-4854-a00f-8f2a36ddd472": {
     "id": "1538ed33-bcf3-4854-a00f-8f2a36ddd472",
     "prev": "e76b1c40-696e-494a-9483-5090a4cebba8",
     "regions": {
      "32599329-e046-4a64-93a2-4f38d7af8021": {
       "attrs": {
        "height": 0.8,
        "width": 0.8,
        "x": 0.1,
        "y": 0.1
       },
       "content": {
        "cell": "0c036cd5-3dff-430c-ab14-3679f3236fb1",
        "part": "whole"
       },
       "id": "32599329-e046-4a64-93a2-4f38d7af8021"
      }
     }
    },
    "2017d53e-93ba-4da4-a35d-54afb1dd80fd": {
     "id": "2017d53e-93ba-4da4-a35d-54afb1dd80fd",
     "prev": "422059d9-8255-44fa-9ea8-bcd4a21fa466",
     "regions": {
      "ef7c1c05-d26b-4758-b411-23027a39abea": {
       "attrs": {
        "height": 0.8,
        "width": 0.8,
        "x": 0.1,
        "y": 0.1
       },
       "content": {
        "cell": "3c5f723f-e4fb-4e87-8378-d7baae396121",
        "part": "whole"
       },
       "id": "ef7c1c05-d26b-4758-b411-23027a39abea"
      }
     }
    },
    "2b480c3e-088f-4efe-a139-8fc715892f59": {
     "id": "2b480c3e-088f-4efe-a139-8fc715892f59",
     "prev": "33836d6c-d4fc-4c02-96ef-eb9b818e68ea",
     "regions": {
      "28e880c1-7019-4060-b2a3-2c1bb7981b49": {
       "attrs": {
        "height": 0.8,
        "width": 0.8,
        "x": 0.1,
        "y": 0.1
       },
       "content": {
        "cell": "24cdfbf7-0b52-4841-a196-e41fbedbf4ba",
        "part": "whole"
       },
       "id": "28e880c1-7019-4060-b2a3-2c1bb7981b49"
      }
     }
    },
    "3322c3bf-e18a-41f0-97cf-6d1c4baab806": {
     "id": "3322c3bf-e18a-41f0-97cf-6d1c4baab806",
     "prev": "98273bf5-fb23-4943-8a5e-733fa92b6d1c",
     "regions": {
      "d08cf294-2509-448f-a8aa-3192e6f1e789": {
       "attrs": {
        "height": 0.8,
        "width": 0.8,
        "x": 0.1,
        "y": 0.1
       },
       "content": {
        "cell": "2c4be5aa-1988-43ca-a8fb-8bd9eca0d05c",
        "part": "whole"
       },
       "id": "d08cf294-2509-448f-a8aa-3192e6f1e789"
      }
     }
    },
    "3382daac-b657-47db-a7a4-7c86f9698392": {
     "id": "3382daac-b657-47db-a7a4-7c86f9698392",
     "prev": "046ba2a5-465c-44d8-9a90-191d0a53954c",
     "regions": {
      "93923ee1-2e29-4d34-abd5-0474149389c9": {
       "attrs": {
        "height": 0.8,
        "width": 0.8,
        "x": 0.1,
        "y": 0.1
       },
       "content": {
        "cell": "72b045cd-a5b5-4742-a10a-16da342ce8eb",
        "part": "whole"
       },
       "id": "93923ee1-2e29-4d34-abd5-0474149389c9"
      }
     }
    },
    "33836d6c-d4fc-4c02-96ef-eb9b818e68ea": {
     "id": "33836d6c-d4fc-4c02-96ef-eb9b818e68ea",
     "prev": "4e0eab66-7d6e-4ca9-b2e7-8378d5f28770",
     "regions": {
      "764dbeeb-abd4-49f0-9c7f-4941cf20a3d0": {
       "attrs": {
        "height": 0.8,
        "width": 0.8,
        "x": 0.1,
        "y": 0.1
       },
       "content": {
        "cell": "77a1a588-1627-4123-aca5-19f9f2ac12f3",
        "part": "whole"
       },
       "id": "764dbeeb-abd4-49f0-9c7f-4941cf20a3d0"
      }
     }
    },
    "422059d9-8255-44fa-9ea8-bcd4a21fa466": {
     "id": "422059d9-8255-44fa-9ea8-bcd4a21fa466",
     "prev": "6f0f6fbe-18a3-40bb-bb5c-f9e4dbf8099a",
     "regions": {
      "fc539d64-7161-4888-9abe-70d58b57601e": {
       "attrs": {
        "height": 0.8,
        "width": 0.8,
        "x": 0.1,
        "y": 0.1
       },
       "content": {
        "cell": "963ada54-5cfa-4646-a818-af8f13dd5c06",
        "part": "whole"
       },
       "id": "fc539d64-7161-4888-9abe-70d58b57601e"
      }
     }
    },
    "48614404-9fce-447a-a28f-e041a94f2bfd": {
     "id": "48614404-9fce-447a-a28f-e041a94f2bfd",
     "prev": "d4cd4458-6e09-4efd-982d-e0a01f99f48b",
     "regions": {
      "77227c6d-ab32-44e9-809b-5972f51ad45c": {
       "attrs": {
        "height": 0.8,
        "width": 0.8,
        "x": 0.1,
        "y": 0.1
       },
       "content": {
        "cell": "f9fe7ca7-c954-4149-9023-d999cd761a55",
        "part": "whole"
       },
       "id": "77227c6d-ab32-44e9-809b-5972f51ad45c"
      }
     }
    },
    "4a528a3e-88af-4f9e-940f-f533a55909df": {
     "id": "4a528a3e-88af-4f9e-940f-f533a55909df",
     "prev": "2017d53e-93ba-4da4-a35d-54afb1dd80fd",
     "regions": {
      "b0c58bcf-6f43-4aef-afd9-929790013a30": {
       "attrs": {
        "height": 0.8,
        "width": 0.8,
        "x": 0.1,
        "y": 0.1
       },
       "content": {
        "cell": "a2068f1c-0721-4616-9b0c-f83b22280a86",
        "part": "whole"
       },
       "id": "b0c58bcf-6f43-4aef-afd9-929790013a30"
      }
     }
    },
    "4e0eab66-7d6e-4ca9-b2e7-8378d5f28770": {
     "id": "4e0eab66-7d6e-4ca9-b2e7-8378d5f28770",
     "prev": "84209737-aea0-49c6-8c29-5d24c8b2adbf",
     "regions": {
      "ba1bb9db-6519-463e-8053-296e834ac448": {
       "attrs": {
        "height": 0.8,
        "width": 0.8,
        "x": 0.1,
        "y": 0.1
       },
       "content": {
        "cell": "05cb7886-24e7-4c12-8d9c-0d1c2c8adcd4",
        "part": "whole"
       },
       "id": "ba1bb9db-6519-463e-8053-296e834ac448"
      }
     }
    },
    "5c2b60ef-fcf6-42ec-af4a-a45e50690289": {
     "id": "5c2b60ef-fcf6-42ec-af4a-a45e50690289",
     "prev": "828c6a76-5451-4480-999e-4e4ff8a7dcf0",
     "regions": {
      "0db94829-cea0-49c2-be9a-e5208342515f": {
       "attrs": {
        "height": 0.8,
        "width": 0.8,
        "x": 0.1,
        "y": 0.1
       },
       "content": {
        "cell": "0de6326c-1872-4f67-8365-6b1ad929fd51",
        "part": "whole"
       },
       "id": "0db94829-cea0-49c2-be9a-e5208342515f"
      }
     }
    },
    "629d2772-3306-454c-97a1-c882ca1e2fb6": {
     "id": "629d2772-3306-454c-97a1-c882ca1e2fb6",
     "prev": "bf19ce34-2c8e-4a00-8f4a-9b586190c42f",
     "regions": {
      "d6993acc-589d-4754-bee8-090f824252e1": {
       "attrs": {
        "height": 0.8,
        "width": 0.8,
        "x": 0.1,
        "y": 0.1
       },
       "content": {
        "cell": "e34ebc1c-7040-4c6e-bf72-ffa6f443990e",
        "part": "whole"
       },
       "id": "d6993acc-589d-4754-bee8-090f824252e1"
      }
     }
    },
    "6f0f6fbe-18a3-40bb-bb5c-f9e4dbf8099a": {
     "id": "6f0f6fbe-18a3-40bb-bb5c-f9e4dbf8099a",
     "prev": "14d0eb39-ff8a-4dfb-8676-ff4674838877",
     "regions": {
      "e237abe5-0543-4cad-bed2-4a5c96fe016f": {
       "attrs": {
        "height": 0.8,
        "width": 0.8,
        "x": 0.1,
        "y": 0.1
       },
       "content": {
        "cell": "2f086fbf-35ef-40e5-b161-bd70493b85a0",
        "part": "whole"
       },
       "id": "e237abe5-0543-4cad-bed2-4a5c96fe016f"
      }
     }
    },
    "828c6a76-5451-4480-999e-4e4ff8a7dcf0": {
     "id": "828c6a76-5451-4480-999e-4e4ff8a7dcf0",
     "prev": "c17f5679-a469-406e-9824-d90d5345f7e3",
     "regions": {
      "24d340ea-76dd-4275-83c4-393a43bc0f34": {
       "attrs": {
        "height": 0.8,
        "width": 0.8,
        "x": 0.1,
        "y": 0.1
       },
       "content": {
        "cell": "dd814f6c-6a6b-4689-99a3-9dd84881902f",
        "part": "whole"
       },
       "id": "24d340ea-76dd-4275-83c4-393a43bc0f34"
      }
     }
    },
    "84209737-aea0-49c6-8c29-5d24c8b2adbf": {
     "id": "84209737-aea0-49c6-8c29-5d24c8b2adbf",
     "prev": "1538ed33-bcf3-4854-a00f-8f2a36ddd472",
     "regions": {
      "19348cf6-56c9-41a4-98b6-34a201ea7ede": {
       "attrs": {
        "height": 0.8,
        "width": 0.8,
        "x": 0.1,
        "y": 0.1
       },
       "content": {
        "cell": "c8464f37-0520-4695-917b-1550539028ef",
        "part": "whole"
       },
       "id": "19348cf6-56c9-41a4-98b6-34a201ea7ede"
      }
     }
    },
    "8a9de7ef-0f3b-4459-be24-98f3151edf6d": {
     "id": "8a9de7ef-0f3b-4459-be24-98f3151edf6d",
     "prev": "5c2b60ef-fcf6-42ec-af4a-a45e50690289",
     "regions": {
      "2038b67b-2a6c-481b-9934-9cfe78ce1b8e": {
       "attrs": {
        "height": 0.8,
        "width": 0.8,
        "x": 0.1,
        "y": 0.1
       },
       "content": {
        "cell": "8076c0b0-a936-409a-a91f-eb2f0e64db7b",
        "part": "whole"
       },
       "id": "2038b67b-2a6c-481b-9934-9cfe78ce1b8e"
      }
     }
    },
    "914d9dd9-91b5-4f1f-8be2-482abd8e3836": {
     "id": "914d9dd9-91b5-4f1f-8be2-482abd8e3836",
     "prev": "c82e5245-c7e1-4153-a847-7372588efbf5",
     "regions": {
      "a5bb4feb-565a-4af5-a4a1-0eb815b7192f": {
       "attrs": {
        "height": 0.8,
        "width": 0.8,
        "x": 0.1,
        "y": 0.1
       },
       "content": {
        "cell": "980cfe66-5b6c-4ab7-a238-38a21574ab86",
        "part": "whole"
       },
       "id": "a5bb4feb-565a-4af5-a4a1-0eb815b7192f"
      }
     }
    },
    "98273bf5-fb23-4943-8a5e-733fa92b6d1c": {
     "id": "98273bf5-fb23-4943-8a5e-733fa92b6d1c",
     "prev": "99470601-ab5c-4ea8-9876-cd31e37bf735",
     "regions": {
      "5ccfaca8-59f8-4c48-8ca4-5b9dd3713000": {
       "attrs": {
        "height": 0.8,
        "width": 0.8,
        "x": 0.1,
        "y": 0.1
       },
       "content": {
        "cell": "6e0a1588-e1f5-4709-b71b-a9520022df01",
        "part": "whole"
       },
       "id": "5ccfaca8-59f8-4c48-8ca4-5b9dd3713000"
      }
     }
    },
    "99470601-ab5c-4ea8-9876-cd31e37bf735": {
     "id": "99470601-ab5c-4ea8-9876-cd31e37bf735",
     "prev": "4a528a3e-88af-4f9e-940f-f533a55909df",
     "regions": {
      "8dd43b14-e31a-4c7d-b6d1-8752228a9274": {
       "attrs": {
        "height": 0.8,
        "width": 0.8,
        "x": 0.1,
        "y": 0.1
       },
       "content": {
        "cell": "1c91ba99-f997-4cee-b47e-dcdf2bb61d02",
        "part": "whole"
       },
       "id": "8dd43b14-e31a-4c7d-b6d1-8752228a9274"
      }
     }
    },
    "9c6b0495-94b8-46ce-8533-6299e39dd22e": {
     "id": "9c6b0495-94b8-46ce-8533-6299e39dd22e",
     "prev": "8a9de7ef-0f3b-4459-be24-98f3151edf6d",
     "regions": {
      "f365f17e-ad6a-482b-95bb-2bfc8228ad1d": {
       "attrs": {
        "height": 0.8,
        "width": 0.8,
        "x": 0.1,
        "y": 0.1
       },
       "content": {
        "cell": "931204f8-8a8e-476f-9478-29592450f94e",
        "part": "whole"
       },
       "id": "f365f17e-ad6a-482b-95bb-2bfc8228ad1d"
      }
     }
    },
    "a2de9140-4714-4d7c-a1b6-44c9273bde66": {
     "id": "a2de9140-4714-4d7c-a1b6-44c9273bde66",
     "prev": "b773b9c6-dcc6-431f-901b-11c039c931b5",
     "regions": {
      "7ef72f3d-a8ee-46e1-8abd-0588f2c7f4ea": {
       "attrs": {
        "height": 0.8,
        "width": 0.8,
        "x": 0.1,
        "y": 0.1
       },
       "content": {
        "cell": "afd91970-09b9-44ca-933c-505432ccf506",
        "part": "whole"
       },
       "id": "7ef72f3d-a8ee-46e1-8abd-0588f2c7f4ea"
      }
     }
    },
    "a48c7374-f5fb-4724-b4f1-2300b096d181": {
     "id": "a48c7374-f5fb-4724-b4f1-2300b096d181",
     "prev": "914d9dd9-91b5-4f1f-8be2-482abd8e3836",
     "regions": {
      "cc900957-52c2-41a4-a1ed-307b35d07b8d": {
       "attrs": {
        "height": 0.8,
        "width": 0.8,
        "x": 0.1,
        "y": 0.1
       },
       "content": {
        "cell": "b921301a-4279-49c5-800b-2fa944e8914f",
        "part": "whole"
       },
       "id": "cc900957-52c2-41a4-a1ed-307b35d07b8d"
      }
     }
    },
    "b0ede8c2-f7ca-4c75-ad13-d3c7c624cb26": {
     "id": "b0ede8c2-f7ca-4c75-ad13-d3c7c624cb26",
     "prev": "ccd35b53-104a-4cd7-979f-a801260c2bc8",
     "regions": {
      "fe0f3ceb-b029-45f0-a205-5a4ee5c90a9d": {
       "attrs": {
        "height": 0.8,
        "width": 0.8,
        "x": 0.1,
        "y": 0.1
       },
       "content": {
        "cell": "deaac886-8686-4234-af0e-215798e68cf9",
        "part": "whole"
       },
       "id": "fe0f3ceb-b029-45f0-a205-5a4ee5c90a9d"
      }
     }
    },
    "b773b9c6-dcc6-431f-901b-11c039c931b5": {
     "id": "b773b9c6-dcc6-431f-901b-11c039c931b5",
     "prev": "3382daac-b657-47db-a7a4-7c86f9698392",
     "regions": {
      "266677fc-8b8d-4f31-97a1-d96a9f852b71": {
       "attrs": {
        "height": 0.8,
        "width": 0.8,
        "x": 0.1,
        "y": 0.1
       },
       "content": {
        "cell": "4c953216-fca5-4635-99a0-5e85f1652290",
        "part": "whole"
       },
       "id": "266677fc-8b8d-4f31-97a1-d96a9f852b71"
      }
     }
    },
    "bf19ce34-2c8e-4a00-8f4a-9b586190c42f": {
     "id": "bf19ce34-2c8e-4a00-8f4a-9b586190c42f",
     "prev": "c0cdbda6-c252-4d5c-a238-13a090cfb232",
     "regions": {
      "1b349e82-910f-4c9e-9a06-58a6cbf878bf": {
       "attrs": {
        "height": 0.8,
        "width": 0.8,
        "x": 0.1,
        "y": 0.1
       },
       "content": {
        "cell": "0b66a2ad-f19e-4641-87c9-c55febc50263",
        "part": "whole"
       },
       "id": "1b349e82-910f-4c9e-9a06-58a6cbf878bf"
      }
     }
    },
    "c0cdbda6-c252-4d5c-a238-13a090cfb232": {
     "id": "c0cdbda6-c252-4d5c-a238-13a090cfb232",
     "prev": "2b480c3e-088f-4efe-a139-8fc715892f59",
     "regions": {
      "6e950b7c-7d10-4e73-836b-e1057b2a0f2e": {
       "attrs": {
        "height": 0.8,
        "width": 0.8,
        "x": 0.1,
        "y": 0.1
       },
       "content": {
        "cell": "588b186d-0ac4-44be-8d89-3293c27cf37e",
        "part": "whole"
       },
       "id": "6e950b7c-7d10-4e73-836b-e1057b2a0f2e"
      }
     }
    },
    "c17f5679-a469-406e-9824-d90d5345f7e3": {
     "id": "c17f5679-a469-406e-9824-d90d5345f7e3",
     "prev": "629d2772-3306-454c-97a1-c882ca1e2fb6",
     "regions": {
      "b4b3bbce-9d61-4f40-8834-e16be0810400": {
       "attrs": {
        "height": 0.8,
        "width": 0.8,
        "x": 0.1,
        "y": 0.1
       },
       "content": {
        "cell": "6ac7c517-3678-49eb-9b27-35fbb35273a2",
        "part": "whole"
       },
       "id": "b4b3bbce-9d61-4f40-8834-e16be0810400"
      }
     }
    },
    "c82e5245-c7e1-4153-a847-7372588efbf5": {
     "id": "c82e5245-c7e1-4153-a847-7372588efbf5",
     "prev": "48614404-9fce-447a-a28f-e041a94f2bfd",
     "regions": {
      "94c24ad3-7270-43ef-a084-9a72b2d81cb3": {
       "attrs": {
        "height": 0.8,
        "width": 0.8,
        "x": 0.1,
        "y": 0.1
       },
       "content": {
        "cell": "32cf68f3-6355-4cc3-8d55-e0f1c46cea05",
        "part": "whole"
       },
       "id": "94c24ad3-7270-43ef-a084-9a72b2d81cb3"
      }
     }
    },
    "ccd35b53-104a-4cd7-979f-a801260c2bc8": {
     "id": "ccd35b53-104a-4cd7-979f-a801260c2bc8",
     "prev": "f0faad94-95fa-4181-941f-fd6c762a161d",
     "regions": {
      "9ee5f9e4-9430-4160-929e-653997f83cc7": {
       "attrs": {
        "height": 0.8,
        "width": 0.8,
        "x": 0.1,
        "y": 0.1
       },
       "content": {
        "cell": "d856a116-b74a-428a-97c8-9d9f19542bb2",
        "part": "whole"
       },
       "id": "9ee5f9e4-9430-4160-929e-653997f83cc7"
      }
     }
    },
    "d4cd4458-6e09-4efd-982d-e0a01f99f48b": {
     "id": "d4cd4458-6e09-4efd-982d-e0a01f99f48b",
     "prev": "3322c3bf-e18a-41f0-97cf-6d1c4baab806",
     "regions": {
      "68adb09f-099b-44f6-897d-b1e9f97cd76a": {
       "attrs": {
        "height": 0.8,
        "width": 0.8,
        "x": 0.1,
        "y": 0.1
       },
       "content": {
        "cell": "60646fa5-016f-4a0b-b293-99f6eed03ad3",
        "part": "whole"
       },
       "id": "68adb09f-099b-44f6-897d-b1e9f97cd76a"
      }
     }
    },
    "e76b1c40-696e-494a-9483-5090a4cebba8": {
     "id": "e76b1c40-696e-494a-9483-5090a4cebba8",
     "prev": "a2de9140-4714-4d7c-a1b6-44c9273bde66",
     "regions": {
      "c8481979-bfaf-4d2e-8136-0818fbdf92d8": {
       "attrs": {
        "height": 0.8,
        "width": 0.8,
        "x": 0.1,
        "y": 0.1
       },
       "content": {
        "cell": "348e005a-ffe8-435a-851e-cde00096a686",
        "part": "whole"
       },
       "id": "c8481979-bfaf-4d2e-8136-0818fbdf92d8"
      }
     }
    },
    "f0faad94-95fa-4181-941f-fd6c762a161d": {
     "id": "f0faad94-95fa-4181-941f-fd6c762a161d",
     "prev": null,
     "regions": {
      "b2fe4077-c005-46b2-9a7e-38970ae89aa6": {
       "attrs": {
        "height": 0.8,
        "width": 0.8,
        "x": 0.1,
        "y": 0.1
       },
       "content": {
        "cell": "3dfadf64-3e5c-4c6a-974d-295ef1f46ccf",
        "part": "whole"
       },
       "id": "b2fe4077-c005-46b2-9a7e-38970ae89aa6"
      }
     }
    }
   },
   "themes": {}
  }
 },
 "nbformat": 4,
 "nbformat_minor": 2
}
