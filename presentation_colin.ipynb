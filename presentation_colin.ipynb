{
 "cells": [
  {
   "cell_type": "markdown",
   "metadata": {
    "slideshow": {
     "slide_type": "slide"
    }
   },
   "source": [
    "# Annotate Pathway data with disease information\n",
    "\n",
    "- Pathways provide oppotunities to: \n",
    "    - understand biological processes\n",
    "    - look for drug targets in disease networks\n",
    " \n",
    "-> Pathway data needs to be **connected to diseases** to infer drugability and disease mechanisms"
   ]
  },
  {
   "cell_type": "markdown",
   "metadata": {
    "slideshow": {
     "slide_type": "slide"
    }
   },
   "source": [
    "### Annotate Wikipathway using BioDB Interactor\n",
    "\n",
    "- Interactor can operate on all three databases\n",
    "    - inbuild functionalities to query across databases\n",
    "\n",
    "### Example\n",
    "\n",
    "- Connect the databases to annotate Wikipathways\n",
    "    - based on the proteins in a pathway and their associated diseases"
   ]
  },
  {
   "cell_type": "code",
   "execution_count": 1,
   "metadata": {
    "slideshow": {
     "slide_type": "subslide"
    }
   },
   "outputs": [
    {
     "name": "stderr",
     "output_type": "stream",
     "text": [
      "Populating Disease Table: 100%|██████████| 7068/7068 [00:01<00:00, 5195.89it/s]\n",
      "Populating Phenotype Table: 100%|██████████| 7755/7755 [00:01<00:00, 5723.41it/s]\n",
      "Creating Association Table: 100%|██████████| 122969/122969 [00:17<00:00, 6849.74it/s]\n"
     ]
    },
    {
     "name": "stdout",
     "output_type": "stream",
     "text": [
      "\n",
      " First database is created!\n",
      "423 entries extracted written to table pathway.\n",
      "19005 entries extracted written to table gene.\n",
      "17076 entries extracted written to table gene_pathway.\n",
      "\n",
      " Second database is created!\n"
     ]
    },
    {
     "name": "stderr",
     "output_type": "stream",
     "text": [
      "/usr/lib/python3.5/re.py:203: FutureWarning: split() requires a non-empty pattern match.\n",
      "  return _compile(pattern, flags).split(string, maxsplit)\n"
     ]
    },
    {
     "name": "stdout",
     "output_type": "stream",
     "text": [
      "\n",
      " Last database is created!\n"
     ]
    }
   ],
   "source": [
    "import biodb_team_3 as bt3\n",
    "\n",
    "interactor = bt3.create_interactor()"
   ]
  },
  {
   "cell_type": "code",
   "execution_count": 4,
   "metadata": {
    "slideshow": {
     "slide_type": "subslide"
    }
   },
   "outputs": [
    {
     "data": {
      "text/plain": [
       "defaultdict(list,\n",
       "            {'WP3996': {'2q37 microdeletion syndrome',\n",
       "              'Cornelia de Lange syndrome 5',\n",
       "              'Wilson-Turner syndrome',\n",
       "              'X-linked dominant chondrodysplasia, Chassaing-Lacombe type',\n",
       "              'alcohol sensitivity, acute',\n",
       "              'brain demyelination due to methionine adenosyltransferase deficiency',\n",
       "              'cerebrovascular disorder',\n",
       "              'constitutional megaloblastic anemia with severe neurologic disease',\n",
       "              'homocystinuria due to methylene tetrahydrofolate reductase deficiency',\n",
       "              'hypermethioninemia with deficiency of S-adenosylhomocysteine hydrolase',\n",
       "              'isolated microphthalmia 8',\n",
       "              'methylcobalamin deficiency type cblG',\n",
       "              'neural tube defects, folate-sensitive',\n",
       "              'schizophrenia (disease)'},\n",
       "             'WP455': {'46 XX gonadal dysgenesis',\n",
       "              'ABCD syndrome',\n",
       "              'Hirschsprung disease, susceptibility to, 1',\n",
       "              'Hirschsprung disease, susceptibility to, 2',\n",
       "              'WHIM syndrome',\n",
       "              'Waardenburg syndrome type 4A',\n",
       "              'alcohol dependence',\n",
       "              'amelogenesis imperfecta, hypomaturation type, Iia6; AI2A6',\n",
       "              'bleeding diathesis due to thromboxane synthesis deficiency',\n",
       "              'blue color blindness',\n",
       "              'blue cone monochromacy',\n",
       "              'congenital stationary night blindness autosomal dominant 1',\n",
       "              'diabetes insipidus, nephrogenic, X-linked',\n",
       "              'epilepsy, familial adult myoclonic, 2',\n",
       "              'familial male-limited precocious puberty',\n",
       "              'hypotrichosis 8',\n",
       "              'leydig cell hypoplasia, type 1',\n",
       "              'mandibulofacial dysostosis with alopecia',\n",
       "              'nephrogenic syndrome of inappropriate antidiuresis',\n",
       "              'obesity (disease)',\n",
       "              'ovarian hyperstimulation syndrome',\n",
       "              'periodic fever, menstrual cycle-dependent',\n",
       "              'prune belly syndome',\n",
       "              'red color blindness',\n",
       "              'red-green color blindness',\n",
       "              'renal tubular dysgenesis of genetic origin',\n",
       "              'retinitis pigmentosa 4',\n",
       "              'schizophrenia (disease)',\n",
       "              'short stature due to GHSR deficiency',\n",
       "              'tremor, hereditary essential, 1'}})"
      ]
     },
     "execution_count": 4,
     "metadata": {},
     "output_type": "execute_result"
    }
   ],
   "source": [
    "interactor.annotate_pathway([\"WP3996\", \"WP455\"])"
   ]
  },
  {
   "cell_type": "markdown",
   "metadata": {
    "slideshow": {
     "slide_type": "subslide"
    }
   },
   "source": [
    "# Using the three packages we could acomplish something novel!\n",
    "\n",
    "- Wikipathway data was not yet annotated with disease information\n",
    "- Connecting different sources of data allowed for us to accomplish this task"
   ]
  },
  {
   "cell_type": "markdown",
   "metadata": {
    "slideshow": {
     "slide_type": "slide"
    }
   },
   "source": [
    "# Thank You !\n",
    "\n",
    "**To...:**\n",
    "- **Every team** and **team member** for their contribution  \n",
    "\n",
    "- **Christian Ebeling** for his technical and scientific guidance  \n",
    "\n",
    "- **Andrej Konotopez** for technical support in every situation  "
   ]
  }
 ],
 "metadata": {
  "celltoolbar": "Slideshow",
  "kernelspec": {
   "display_name": "Python 3",
   "language": "python",
   "name": "python3"
  },
  "language_info": {
   "codemirror_mode": {
    "name": "ipython",
    "version": 3
   },
   "file_extension": ".py",
   "mimetype": "text/x-python",
   "name": "python",
   "nbconvert_exporter": "python",
   "pygments_lexer": "ipython3",
   "version": "3.5.2"
  }
 },
 "nbformat": 4,
 "nbformat_minor": 2
}
