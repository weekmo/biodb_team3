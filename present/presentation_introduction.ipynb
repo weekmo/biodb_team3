{
 "cells": [
  {
   "cell_type": "markdown",
   "metadata": {
    "slideshow": {
     "slide_type": "slide"
    }
   },
   "source": [
    "# Investigating the opportunities\n",
    "\n",
    "- Research for a protein database which has OMIM ids\n",
    "- In pathway databases OMIM is missing\n",
    "- Human Protein Reference Database\n",
    "- UniProt\n",
    "![title](uniprot.png)"
   ]
  },
  {
   "cell_type": "markdown",
   "metadata": {
    "slideshow": {
     "slide_type": "slide"
    }
   },
   "source": [
    "# Why UniProt?\n",
    "\n",
    "- OMIM id is available for proteins\n",
    "- More than 500,000 proteins\n",
    "- It is easy to access and use (txt)\n",
    "- Other databases has connection to UniProt Ids\n",
    "- Provides an up-to-date, comprehensive body of protein information\n",
    "- Continuously updated for new data every four weeks\n"
   ]
  },
  {
   "cell_type": "markdown",
   "metadata": {
    "slideshow": {
     "slide_type": "subslide"
    }
   },
   "source": [
    "# Source file\n",
    "\n",
    "![title](Opera.png)\n"
   ]
  },
  {
   "cell_type": "markdown",
   "metadata": {
    "slideshow": {
     "slide_type": "slide"
    }
   },
   "source": [
    "# Novelty\n",
    "\n",
    "- Similar task was addressed by others (offline)\n",
    "- The databases mostly focus on mapping gene to disease associations\n",
    "- Protein disease associations can be more interesting in drug design\n"
   ]
  }
 ],
 "metadata": {
  "celltoolbar": "Slideshow",
  "kernelspec": {
   "display_name": "Python 3",
   "language": "python",
   "name": "python3"
  },
  "language_info": {
   "codemirror_mode": {
    "name": "ipython",
    "version": 3
   },
   "file_extension": ".py",
   "mimetype": "text/x-python",
   "name": "python",
   "nbconvert_exporter": "python",
   "pygments_lexer": "ipython3",
   "version": "3.6.4"
  }
 },
 "nbformat": 4,
 "nbformat_minor": 2
}
